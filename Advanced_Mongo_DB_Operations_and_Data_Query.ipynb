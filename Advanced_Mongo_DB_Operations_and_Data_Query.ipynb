{
  "cells": [
    {
      "cell_type": "markdown",
      "id": "32f8193f",
      "metadata": {
        "id": "32f8193f"
      },
      "source": [
        "# Hands-On Pertemuan 11: Advanced MongoDB Operations and Data Query"
      ]
    },
    {
      "cell_type": "markdown",
      "id": "63c97234",
      "metadata": {
        "id": "63c97234"
      },
      "source": [
        "## Objectives:\n",
        "- Dive into advanced query operations and aggregation pipelines in MongoDB.\n",
        "- Enhance skills in filtering, grouping, and analyzing data with MongoDB.\n",
        "- Master complex MongoDB operations for real-world data scenarios.\n"
      ]
    },
    {
      "cell_type": "markdown",
      "id": "dc3e7a37",
      "metadata": {
        "id": "dc3e7a37"
      },
      "source": [
        "### 1. Advanced CRUD Operations\n",
        "- **Exercise 1**: Use `bulk_write` to insert, update, and delete multiple documents simultaneously.\n",
        "- **Task 1**: Insert a dataset of `courses` where each course has multiple student enrollments, then display the data.\n"
      ]
    },
    {
      "cell_type": "code",
      "source": [
        "!curl ifconfig.me"
      ],
      "metadata": {
        "id": "2dMAoCujHpBK",
        "outputId": "2cad6e60-2b74-47b8-f072-92194e938276",
        "colab": {
          "base_uri": "https://localhost:8080/"
        }
      },
      "id": "2dMAoCujHpBK",
      "execution_count": 1,
      "outputs": [
        {
          "output_type": "stream",
          "name": "stdout",
          "text": [
            "34.173.189.238"
          ]
        }
      ]
    },
    {
      "cell_type": "code",
      "execution_count": 5,
      "id": "58749e3d",
      "metadata": {
        "id": "58749e3d",
        "outputId": "3a72ffa9-7614-4334-ab65-7cea814ce7a3",
        "colab": {
          "base_uri": "https://localhost:8080/"
        }
      },
      "outputs": [
        {
          "output_type": "stream",
          "name": "stdout",
          "text": [
            "Requirement already satisfied: pymongo in /usr/local/lib/python3.10/dist-packages (4.10.1)\n",
            "Requirement already satisfied: dnspython<3.0.0,>=1.16.0 in /usr/local/lib/python3.10/dist-packages (from pymongo) (2.7.0)\n",
            "Courses inserted successfully.\n"
          ]
        }
      ],
      "source": [
        "!pip install pymongo\n",
        "from pymongo import MongoClient, InsertOne, UpdateOne, DeleteOne\n",
        "\n",
        "# Establish client connection\n",
        "client = MongoClient('')\n",
        "db = client['university_db']\n",
        "courses_collection = db['courses']\n",
        "\n",
        "# Bulk insert of courses with student enrollments\n",
        "operations = [\n",
        "    InsertOne({'course': 'Math 101', 'enrollments': 30, 'department': 'Mathematics'}),\n",
        "    InsertOne({'course': 'CS 102', 'enrollments': 25, 'department': 'Computer Science'}),\n",
        "    InsertOne({'course': 'History 201', 'enrollments': 20, 'department': 'History'}),\n",
        "    InsertOne({'course': 'Physics 202', 'enrollments': 15, 'department': 'Physics'})\n",
        "]\n",
        "courses_collection.bulk_write(operations)\n",
        "print('Courses inserted successfully.')\n"
      ]
    },
    {
      "cell_type": "code",
      "source": [
        "# Bulk Write: Insert, Update, dan Delete\n",
        "operations = [\n",
        "\n",
        "    # Update enrollments untuk Physics 202\n",
        "    UpdateOne({'course': 'Physics 202'}, {'$set': {'enrollments': 18}}),\n",
        "\n",
        "    # Delete History 201\n",
        "    DeleteOne({'course': 'History 201'})\n",
        "]\n",
        "\n",
        "# Menjalankan operasi bulk\n",
        "result = courses_collection.bulk_write(operations)\n",
        "print(\"Bulk Write Operation Complete:\")\n",
        "print(f\"Inserted: {result.inserted_count}, Updated: {result.modified_count}, Deleted: {result.deleted_count}\")\n",
        "\n",
        "# Menampilkan semua data yang ada setelah operasi\n",
        "print(\"\\nCurrent Data in Courses Collection:\")\n",
        "for course in courses_collection.find():\n",
        "    print(course)"
      ],
      "metadata": {
        "colab": {
          "base_uri": "https://localhost:8080/"
        },
        "id": "9QRaXLh9xHLQ",
        "outputId": "0af3c173-73f3-404a-dc7b-5b916c059ecd"
      },
      "id": "9QRaXLh9xHLQ",
      "execution_count": 6,
      "outputs": [
        {
          "output_type": "stream",
          "name": "stdout",
          "text": [
            "Bulk Write Operation Complete:\n",
            "Inserted: 0, Updated: 1, Deleted: 1\n",
            "\n",
            "Current Data in Courses Collection:\n",
            "{'_id': ObjectId('675eaa5f9e8dddf665b054d0'), 'course': 'Math 101', 'enrollments': 30, 'department': 'Mathematics'}\n",
            "{'_id': ObjectId('675eaa5f9e8dddf665b054d1'), 'course': 'CS 102', 'enrollments': 25, 'department': 'Computer Science'}\n",
            "{'_id': ObjectId('675eaa5f9e8dddf665b054d3'), 'course': 'Physics 202', 'enrollments': 18, 'department': 'Physics'}\n"
          ]
        }
      ]
    },
    {
      "cell_type": "code",
      "source": [
        "# Insert data ke collection\n",
        "insert_result = courses_collection.insert_many(courses_data)\n",
        "print(\"Task 1: Courses Dataset Inserted Successfully.\\n\")\n",
        "\n",
        "# Menampilkan data setelah insert\n",
        "print(\"Current Data in Courses Collection:\")\n",
        "for course in courses_collection.find():\n",
        "    print(course)\n"
      ],
      "metadata": {
        "colab": {
          "base_uri": "https://localhost:8080/"
        },
        "id": "gOQdanNTxXd4",
        "outputId": "b89ef2e1-82f8-4a6f-9a00-d3620c0dacdb"
      },
      "id": "gOQdanNTxXd4",
      "execution_count": 7,
      "outputs": [
        {
          "output_type": "stream",
          "name": "stdout",
          "text": [
            "Task 1: Courses Dataset Inserted Successfully.\n",
            "\n",
            "Current Data in Courses Collection:\n",
            "{'_id': ObjectId('675eaa5f9e8dddf665b054d0'), 'course': 'Math 101', 'enrollments': 30, 'department': 'Mathematics'}\n",
            "{'_id': ObjectId('675eaa5f9e8dddf665b054d1'), 'course': 'CS 102', 'enrollments': 25, 'department': 'Computer Science'}\n",
            "{'_id': ObjectId('675eaa5f9e8dddf665b054d3'), 'course': 'Physics 202', 'enrollments': 18, 'department': 'Physics'}\n",
            "{'_id': ObjectId('675ea95b9e8dddf665b054cb'), 'course': 'Math 101', 'enrollments': 30, 'department': 'Mathematics'}\n",
            "{'_id': ObjectId('675ea95b9e8dddf665b054cc'), 'course': 'CS 102', 'enrollments': 25, 'department': 'Computer Science'}\n",
            "{'_id': ObjectId('675ea95b9e8dddf665b054cd'), 'course': 'Physics 202', 'enrollments': 18, 'department': 'Physics'}\n",
            "{'_id': ObjectId('675ea95b9e8dddf665b054ce'), 'course': 'Chemistry 203', 'enrollments': 22, 'department': 'Chemistry'}\n"
          ]
        }
      ]
    },
    {
      "cell_type": "markdown",
      "id": "ea28ba03",
      "metadata": {
        "id": "ea28ba03"
      },
      "source": [
        "### 2. Complex Filtering and Querying\n",
        "- **Exercise 2**: Filter courses with enrollments over 20 students.\n",
        "- **Task 2**: Retrieve and display courses only from the 'Computer Science' or 'Mathematics' departments.\n"
      ]
    },
    {
      "cell_type": "code",
      "execution_count": 8,
      "id": "8cacd4b7",
      "metadata": {
        "id": "8cacd4b7",
        "colab": {
          "base_uri": "https://localhost:8080/"
        },
        "outputId": "b7d314c6-8967-4c41-ac74-6b5f122d29e3"
      },
      "outputs": [
        {
          "output_type": "stream",
          "name": "stdout",
          "text": [
            "{'_id': ObjectId('675eaa5f9e8dddf665b054d0'), 'course': 'Math 101', 'enrollments': 30, 'department': 'Mathematics'}\n",
            "{'_id': ObjectId('675eaa5f9e8dddf665b054d1'), 'course': 'CS 102', 'enrollments': 25, 'department': 'Computer Science'}\n",
            "{'_id': ObjectId('675ea95b9e8dddf665b054cb'), 'course': 'Math 101', 'enrollments': 30, 'department': 'Mathematics'}\n",
            "{'_id': ObjectId('675ea95b9e8dddf665b054cc'), 'course': 'CS 102', 'enrollments': 25, 'department': 'Computer Science'}\n",
            "{'_id': ObjectId('675ea95b9e8dddf665b054ce'), 'course': 'Chemistry 203', 'enrollments': 22, 'department': 'Chemistry'}\n"
          ]
        }
      ],
      "source": [
        "# Query for courses with enrollments greater than 20\n",
        "for course in courses_collection.find({'enrollments': {'$gt': 20}}):\n",
        "    print(course)\n"
      ]
    },
    {
      "cell_type": "code",
      "execution_count": 9,
      "id": "27fd2372",
      "metadata": {
        "id": "27fd2372",
        "colab": {
          "base_uri": "https://localhost:8080/"
        },
        "outputId": "2c7bfc6d-0d5e-4e85-c1bf-92b02cd5ae65"
      },
      "outputs": [
        {
          "output_type": "stream",
          "name": "stdout",
          "text": [
            "{'_id': ObjectId('675eaa5f9e8dddf665b054d0'), 'course': 'Math 101', 'enrollments': 30, 'department': 'Mathematics'}\n",
            "{'_id': ObjectId('675eaa5f9e8dddf665b054d1'), 'course': 'CS 102', 'enrollments': 25, 'department': 'Computer Science'}\n",
            "{'_id': ObjectId('675ea95b9e8dddf665b054cb'), 'course': 'Math 101', 'enrollments': 30, 'department': 'Mathematics'}\n",
            "{'_id': ObjectId('675ea95b9e8dddf665b054cc'), 'course': 'CS 102', 'enrollments': 25, 'department': 'Computer Science'}\n"
          ]
        }
      ],
      "source": [
        "# Query courses in Computer Science or Mathematics departments\n",
        "for course in courses_collection.find({'department': {'$in': ['Computer Science', 'Mathematics']}}):\n",
        "    print(course)\n"
      ]
    },
    {
      "cell_type": "markdown",
      "id": "5bd373c1",
      "metadata": {
        "id": "5bd373c1"
      },
      "source": [
        "### 3. Aggregation Framework for Data Analysis\n",
        "- **Exercise 3**: Use aggregation to find the average enrollment per department.\n",
        "- **Task 3**: Create an aggregation pipeline that finds the maximum enrollment for each department.\n"
      ]
    },
    {
      "cell_type": "code",
      "execution_count": 10,
      "id": "97561541",
      "metadata": {
        "id": "97561541",
        "colab": {
          "base_uri": "https://localhost:8080/"
        },
        "outputId": "b34d8b21-1e4c-4096-ff26-97e91b0fe223"
      },
      "outputs": [
        {
          "output_type": "stream",
          "name": "stdout",
          "text": [
            "{'_id': 'Physics', 'average_enrollment': 18.0}\n",
            "{'_id': 'Chemistry', 'average_enrollment': 22.0}\n",
            "{'_id': 'Computer Science', 'average_enrollment': 25.0}\n",
            "{'_id': 'Mathematics', 'average_enrollment': 30.0}\n"
          ]
        }
      ],
      "source": [
        "# Average enrollment per department using aggregation\n",
        "pipeline = [\n",
        "    {'$group': {'_id': '$department', 'average_enrollment': {'$avg': '$enrollments'}}}\n",
        "]\n",
        "for result in courses_collection.aggregate(pipeline):\n",
        "    print(result)\n"
      ]
    },
    {
      "cell_type": "code",
      "execution_count": 11,
      "id": "3ba91f68",
      "metadata": {
        "id": "3ba91f68",
        "colab": {
          "base_uri": "https://localhost:8080/"
        },
        "outputId": "1cd092b4-e384-42c6-cda6-0fa3f8d44f19"
      },
      "outputs": [
        {
          "output_type": "stream",
          "name": "stdout",
          "text": [
            "{'_id': 'Physics', 'max_enrollment': 18}\n",
            "{'_id': 'Mathematics', 'max_enrollment': 30}\n",
            "{'_id': 'Chemistry', 'max_enrollment': 22}\n",
            "{'_id': 'Computer Science', 'max_enrollment': 25}\n"
          ]
        }
      ],
      "source": [
        "# Maximum enrollment per department\n",
        "pipeline = [\n",
        "    {'$group': {'_id': '$department', 'max_enrollment': {'$max': '$enrollments'}}}\n",
        "]\n",
        "for result in courses_collection.aggregate(pipeline):\n",
        "    print(result)\n"
      ]
    },
    {
      "cell_type": "markdown",
      "id": "2230ad7e",
      "metadata": {
        "id": "2230ad7e"
      },
      "source": [
        "### 4. Data Transformation using $project and $addFields\n",
        "- **Exercise 4**: Use `$project` to rename and only show fields: `course_name`, `department_name`, and `enrollments`.\n",
        "- **Task 4**: Use `$addFields` to create a new field `enrollment_category` where enrollments > 20 are 'high' and others 'low'.\n"
      ]
    },
    {
      "cell_type": "code",
      "execution_count": 12,
      "id": "53034be1",
      "metadata": {
        "id": "53034be1",
        "colab": {
          "base_uri": "https://localhost:8080/"
        },
        "outputId": "44cd14de-5cf4-4855-dfb3-d44fcbb56e25"
      },
      "outputs": [
        {
          "output_type": "stream",
          "name": "stdout",
          "text": [
            "{'_id': ObjectId('675eaa5f9e8dddf665b054d0'), 'enrollments': 30, 'course_name': 'Math 101', 'department_name': 'Mathematics'}\n",
            "{'_id': ObjectId('675eaa5f9e8dddf665b054d1'), 'enrollments': 25, 'course_name': 'CS 102', 'department_name': 'Computer Science'}\n",
            "{'_id': ObjectId('675eaa5f9e8dddf665b054d3'), 'enrollments': 18, 'course_name': 'Physics 202', 'department_name': 'Physics'}\n",
            "{'_id': ObjectId('675ea95b9e8dddf665b054cb'), 'enrollments': 30, 'course_name': 'Math 101', 'department_name': 'Mathematics'}\n",
            "{'_id': ObjectId('675ea95b9e8dddf665b054cc'), 'enrollments': 25, 'course_name': 'CS 102', 'department_name': 'Computer Science'}\n",
            "{'_id': ObjectId('675ea95b9e8dddf665b054cd'), 'enrollments': 18, 'course_name': 'Physics 202', 'department_name': 'Physics'}\n",
            "{'_id': ObjectId('675ea95b9e8dddf665b054ce'), 'enrollments': 22, 'course_name': 'Chemistry 203', 'department_name': 'Chemistry'}\n"
          ]
        }
      ],
      "source": [
        "# Projection to rename fields\n",
        "pipeline = [\n",
        "    {'$project': {'course_name': '$course', 'department_name': '$department', 'enrollments': 1}}\n",
        "]\n",
        "for result in courses_collection.aggregate(pipeline):\n",
        "    print(result)\n"
      ]
    },
    {
      "cell_type": "code",
      "execution_count": 13,
      "id": "e846e40d",
      "metadata": {
        "id": "e846e40d",
        "colab": {
          "base_uri": "https://localhost:8080/"
        },
        "outputId": "e7ee03da-43a0-460b-813f-dfea97043bc8"
      },
      "outputs": [
        {
          "output_type": "stream",
          "name": "stdout",
          "text": [
            "{'_id': ObjectId('675eaa5f9e8dddf665b054d0'), 'course': 'Math 101', 'enrollments': 30, 'department': 'Mathematics', 'enrollment_category': 'high'}\n",
            "{'_id': ObjectId('675eaa5f9e8dddf665b054d1'), 'course': 'CS 102', 'enrollments': 25, 'department': 'Computer Science', 'enrollment_category': 'high'}\n",
            "{'_id': ObjectId('675eaa5f9e8dddf665b054d3'), 'course': 'Physics 202', 'enrollments': 18, 'department': 'Physics', 'enrollment_category': 'low'}\n",
            "{'_id': ObjectId('675ea95b9e8dddf665b054cb'), 'course': 'Math 101', 'enrollments': 30, 'department': 'Mathematics', 'enrollment_category': 'high'}\n",
            "{'_id': ObjectId('675ea95b9e8dddf665b054cc'), 'course': 'CS 102', 'enrollments': 25, 'department': 'Computer Science', 'enrollment_category': 'high'}\n",
            "{'_id': ObjectId('675ea95b9e8dddf665b054cd'), 'course': 'Physics 202', 'enrollments': 18, 'department': 'Physics', 'enrollment_category': 'low'}\n",
            "{'_id': ObjectId('675ea95b9e8dddf665b054ce'), 'course': 'Chemistry 203', 'enrollments': 22, 'department': 'Chemistry', 'enrollment_category': 'high'}\n"
          ]
        }
      ],
      "source": [
        "# Adding enrollment category field based on enrollments\n",
        "pipeline = [\n",
        "    {'$addFields': {'enrollment_category': {'$cond': {'if': {'$gt': ['$enrollments', 20]}, 'then': 'high', 'else': 'low'}}}}\n",
        "]\n",
        "for result in courses_collection.aggregate(pipeline):\n",
        "    print(result)\n"
      ]
    },
    {
      "cell_type": "markdown",
      "id": "37796e1c",
      "metadata": {
        "id": "37796e1c"
      },
      "source": [
        "### Homework for Students\n",
        "- **Homework 1**: Perform an aggregation to get a count of courses per department.\n",
        "- **Homework 2**: Use `$match` and `$group` together to filter and get only courses with enrollments over 25 in 'Computer Science'.\n",
        "- **Homework 3**: Apply `$lookup` to join `courses` collection with `students` collection based on student enrollments.\n"
      ]
    },
    {
      "cell_type": "code",
      "source": [
        "# Aggregation pipeline untuk menghitung jumlah kursus per department\n",
        "pipeline = [\n",
        "    {\n",
        "        '$group': {\n",
        "            '_id': '$department',\n",
        "            'total_courses': {'$sum': 1}\n",
        "        }\n",
        "    }\n",
        "]\n",
        "\n",
        "print(\"Total courses per department:\")\n",
        "for result in courses_collection.aggregate(pipeline):\n",
        "    print(result)\n"
      ],
      "metadata": {
        "colab": {
          "base_uri": "https://localhost:8080/"
        },
        "id": "loPSzIzk424y",
        "outputId": "e49608d3-a4a3-434f-90db-af643a17e8fc"
      },
      "id": "loPSzIzk424y",
      "execution_count": 14,
      "outputs": [
        {
          "output_type": "stream",
          "name": "stdout",
          "text": [
            "Total courses per department:\n",
            "{'_id': 'Physics', 'total_courses': 2}\n",
            "{'_id': 'Mathematics', 'total_courses': 2}\n",
            "{'_id': 'Chemistry', 'total_courses': 1}\n",
            "{'_id': 'Computer Science', 'total_courses': 2}\n"
          ]
        }
      ]
    },
    {
      "cell_type": "code",
      "source": [
        "# Aggregation pipeline dengan $match dan $group\n",
        "pipeline = [\n",
        "    {\n",
        "        '$match': {\n",
        "            'enrollments': {'$gt': 25},\n",
        "            'department': 'Computer Science'\n",
        "        }\n",
        "    },\n",
        "    {\n",
        "        '$group': {\n",
        "            '_id': '$department',\n",
        "            'filtered_courses_count': {'$sum': 1}\n",
        "        }\n",
        "    }\n",
        "]\n",
        "\n",
        "print(\"\\nCourses with enrollments > 25 in 'Computer Science':\")\n",
        "for result in courses_collection.aggregate(pipeline):\n",
        "    print(result)\n"
      ],
      "metadata": {
        "colab": {
          "base_uri": "https://localhost:8080/"
        },
        "id": "Vb09Bv4-4334",
        "outputId": "f2792d46-ae65-4c82-8329-959648a24651"
      },
      "id": "Vb09Bv4-4334",
      "execution_count": 15,
      "outputs": [
        {
          "output_type": "stream",
          "name": "stdout",
          "text": [
            "\n",
            "Courses with enrollments > 25 in 'Computer Science':\n"
          ]
        }
      ]
    },
    {
      "cell_type": "code",
      "source": [
        "# Sample data untuk koleksi students (jika belum ada)\n",
        "students_collection = db['students']\n",
        "students_collection.insert_many([\n",
        "    {'name': 'Alice', 'course': 'Math 101'},\n",
        "    {'name': 'Bob', 'course': 'CS 102'},\n",
        "    {'name': 'Charlie', 'course': 'History 201'},\n",
        "    {'name': 'David', 'course': 'CS 102'}\n",
        "])\n",
        "\n",
        "# Aggregation pipeline menggunakan $lookup\n",
        "pipeline = [\n",
        "    {\n",
        "        '$lookup': {\n",
        "            'from': 'students',       # Koleksi yang akan di-join\n",
        "            'localField': 'course',   # Field di koleksi courses\n",
        "            'foreignField': 'course', # Field di koleksi students\n",
        "            'as': 'enrolled_students' # Nama output join\n",
        "        }\n",
        "    }\n",
        "]\n",
        "\n",
        "print(\"\\nCourses with enrolled students (joined with students collection):\")\n",
        "for result in courses_collection.aggregate(pipeline):\n",
        "    print(result)\n"
      ],
      "metadata": {
        "colab": {
          "base_uri": "https://localhost:8080/"
        },
        "id": "jvwr3jKM47E3",
        "outputId": "2d8108e3-1ce1-4c05-b5cf-46db420f553f"
      },
      "id": "jvwr3jKM47E3",
      "execution_count": 16,
      "outputs": [
        {
          "output_type": "stream",
          "name": "stdout",
          "text": [
            "\n",
            "Courses with enrolled students (joined with students collection):\n",
            "{'_id': ObjectId('675eaa5f9e8dddf665b054d0'), 'course': 'Math 101', 'enrollments': 30, 'department': 'Mathematics', 'enrolled_students': [{'_id': ObjectId('675eb1259e8dddf665b054d4'), 'name': 'Alice', 'course': 'Math 101'}]}\n",
            "{'_id': ObjectId('675eaa5f9e8dddf665b054d1'), 'course': 'CS 102', 'enrollments': 25, 'department': 'Computer Science', 'enrolled_students': [{'_id': ObjectId('675eb1259e8dddf665b054d5'), 'name': 'Bob', 'course': 'CS 102'}, {'_id': ObjectId('675eb1259e8dddf665b054d7'), 'name': 'David', 'course': 'CS 102'}]}\n",
            "{'_id': ObjectId('675eaa5f9e8dddf665b054d3'), 'course': 'Physics 202', 'enrollments': 18, 'department': 'Physics', 'enrolled_students': []}\n",
            "{'_id': ObjectId('675ea95b9e8dddf665b054cb'), 'course': 'Math 101', 'enrollments': 30, 'department': 'Mathematics', 'enrolled_students': [{'_id': ObjectId('675eb1259e8dddf665b054d4'), 'name': 'Alice', 'course': 'Math 101'}]}\n",
            "{'_id': ObjectId('675ea95b9e8dddf665b054cc'), 'course': 'CS 102', 'enrollments': 25, 'department': 'Computer Science', 'enrolled_students': [{'_id': ObjectId('675eb1259e8dddf665b054d5'), 'name': 'Bob', 'course': 'CS 102'}, {'_id': ObjectId('675eb1259e8dddf665b054d7'), 'name': 'David', 'course': 'CS 102'}]}\n",
            "{'_id': ObjectId('675ea95b9e8dddf665b054cd'), 'course': 'Physics 202', 'enrollments': 18, 'department': 'Physics', 'enrolled_students': []}\n",
            "{'_id': ObjectId('675ea95b9e8dddf665b054ce'), 'course': 'Chemistry 203', 'enrollments': 22, 'department': 'Chemistry', 'enrolled_students': []}\n"
          ]
        }
      ]
    },
    {
      "cell_type": "code",
      "source": [],
      "metadata": {
        "id": "JPR9rhOn4_ZV"
      },
      "id": "JPR9rhOn4_ZV",
      "execution_count": null,
      "outputs": []
    }
  ],
  "metadata": {
    "colab": {
      "provenance": []
    },
    "language_info": {
      "name": "python"
    },
    "kernelspec": {
      "name": "python3",
      "display_name": "Python 3"
    }
  },
  "nbformat": 4,
  "nbformat_minor": 5
}